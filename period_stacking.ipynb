{
 "cells": [
  {
   "cell_type": "code",
   "execution_count": 1,
   "id": "5f1edd14",
   "metadata": {},
   "outputs": [],
   "source": [
    "# Stacking Period Data from MATLAB Files in Python\n",
    "# ------------------------------------------------------------\n",
    "# This script walks through how to load .mat files, extract structured timing data,\n",
    "# and build a clean DataFrame summarizing all trials across multiple sessions.\n",
    "\n",
    "import scipy.io\n",
    "import pandas as pd\n",
    "import numpy as np"
   ]
  },
  {
   "cell_type": "code",
   "execution_count": 2,
   "id": "089e1d88",
   "metadata": {},
   "outputs": [],
   "source": [
    "# === STEP 1: Load MATLAB .mat files ===\n",
    "# These files contain structured timing info and session metadata\n",
    "periods_mat = scipy.io.loadmat(\"periods.mat\", simplify_cells=True)\n",
    "sessions_mat = scipy.io.loadmat(\"sessions.mat\", simplify_cells=True)"
   ]
  },
  {
   "cell_type": "code",
   "execution_count": 3,
   "id": "e643c468",
   "metadata": {},
   "outputs": [],
   "source": [
    "# === STEP 2: Extract relevant variables ===\n",
    "# 'periodsAll' contains trial timing [trial_num, stim_on, stim_off] for each session\n",
    "# 'sessions' holds metadata including session IDs like 'p6WV_CelebA_Sess1'\n",
    "periods_all = periods_mat[\"periodsAll\"]\n",
    "sessions_list = sessions_mat[\"sessions\"]"
   ]
  },
  {
   "cell_type": "code",
   "execution_count": 4,
   "id": "c7afddd8",
   "metadata": {},
   "outputs": [],
   "source": [
    "# === STEP 3: Define desired session order ===\n",
    "# These are the labels we want to extract in this exact order\n",
    "desired_order = [\n",
    "    'p6WV_CelebA_Sess1', 'p6WV_CelebA_Sess2',\n",
    "    'p7WV_CelebA_Sess1', 'p7WV_CelebA_Sess2', 'p7WV_CelebA_Sess3', 'p7WV_CelebA_Sess4',\n",
    "    'p9WV_CelebA_Sess1', 'p9WV_CelebA_Sess2', 'p9WV_CelebA_Sess3', 'p9WV_CelebA_Sess4',\n",
    "    'p10WV_CelebA_S2_FBI_S2', 'p10WV_CelebA_Sess3', 'p10WV_Loc2_S1_CelebA_S1_FBI_S1',\n",
    "    'p11WV_CelebA_S1_FBI_S1_Loc2_S1', 'p11WV_CelebA_S2_FBI_S2_Loc2_S2',\n",
    "    'p11WV_CelebA_S3_FBI_S3_Loc2_S3', 'p11WV_CelebA_S4_FBI_S4_Loc2_S4', 'p11WV_CelebA_Sess5',\n",
    "    'p13WV_CelebA_Sess1',\n",
    "    'p14WV_CelebA_S1_FBI_S1', 'p14WV_CelebA_S2_FBI_S2', 'p14WV_CelebA_S3_FBI_S3', 'p14WV_CelebA_S4_FBI_S4',\n",
    "    'p15WV_CelebA_S1_FBI_S1', 'p15WV_CelebA_S2_FBI_S2',\n",
    "    'p16WV_CelebA_S1', 'p16WV_CelebA_S2_NavFace_S1', 'p16WV_CelebA_S3_NavFace_S3',\n",
    "    'p16WV_CelebA_S4_NavObj_S2', 'p16WV_CelebA_S5_FBI_S1_NavFace_S4', 'p16WV_CelebA_S6_NavFace_S5',\n",
    "    'p18WV_CelebA_S1_FBI_S1', 'p18WV_CelebA_S2_NavFace_S1', 'p18WV_CelebA_S3_NavFace_S2', 'p18WV_CelebA_S4',\n",
    "    'p19WV_CelebA_S1_NavFace_S1', 'p19WV_CelebA_S2',\n",
    "    'p20WV_CelebA_S1_NavFace_S1', 'p20WV_CelebA_S2_NavFace_S2', 'p20WV_CelebA_S3_FBI_S1'\n",
    "]"
   ]
  },
  {
   "cell_type": "code",
   "execution_count": 5,
   "id": "14b564da",
   "metadata": {},
   "outputs": [],
   "source": [
    "# === STEP 4: Build a mapping from session ID to index ===\n",
    "# This helps us retrieve timing data for a given session label\n",
    "session_id_map = {}\n",
    "for idx, session in enumerate(sessions_list):\n",
    "    try:\n",
    "        session_id_map[session['ID']] = idx\n",
    "        session_id_map[session['ID1']] = idx  # handles variants like 'Sesse'\n",
    "    except Exception:\n",
    "        continue"
   ]
  },
  {
   "cell_type": "code",
   "execution_count": 7,
   "id": "c9262a7d",
   "metadata": {},
   "outputs": [],
   "source": [
    "# === STEP 5: Extract trial rows for each session in desired order ===\n",
    "# We flatten and store [trial, stim_on, stim_off, session_label]\n",
    "all_rows = []\n",
    "missing_sessions = []\n",
    "\n",
    "for session_label in desired_order:\n",
    "    if session_label in session_id_map:\n",
    "        idx = session_id_map[session_label]\n",
    "        session_data = periods_all[idx]  # ✅ FIX: no [0, idx] — just [idx]\n",
    "        for entry in session_data:\n",
    "            flat = np.array(entry).flatten()\n",
    "            trial_num, stim_on, stim_off = map(int, flat[:3])\n",
    "            all_rows.append([trial_num, stim_on, stim_off, session_label])\n",
    "    else:\n",
    "        missing_sessions.append(session_label)"
   ]
  },
  {
   "cell_type": "code",
   "execution_count": 8,
   "id": "1c2c60ce",
   "metadata": {},
   "outputs": [
    {
     "name": "stdout",
     "output_type": "stream",
     "text": [
      "File saved as 'stacked_subjects_sessions_data.csv'\n"
     ]
    }
   ],
   "source": [
    "# === STEP 6: Build DataFrame and save ===\n",
    "df = pd.DataFrame(all_rows, columns=[\"Trial\", \"StimOn_us\", \"StimOff_us\", \"subject_session\"])\n",
    "df.to_csv(\"stacked_subjects_sessions_data.csv\", index=False)\n",
    "\n",
    "print(\"File saved as 'stacked_subjects_sessions_data.csv'\")\n",
    "if missing_sessions:\n",
    "    print(\"The following sessions were not found:\")\n",
    "    for s in missing_sessions:\n",
    "        print(\" -\", s)"
   ]
  }
 ],
 "metadata": {
  "kernelspec": {
   "display_name": "cog_flex",
   "language": "python",
   "name": "python3"
  },
  "language_info": {
   "codemirror_mode": {
    "name": "ipython",
    "version": 3
   },
   "file_extension": ".py",
   "mimetype": "text/x-python",
   "name": "python",
   "nbconvert_exporter": "python",
   "pygments_lexer": "ipython3",
   "version": "3.9.21"
  }
 },
 "nbformat": 4,
 "nbformat_minor": 5
}
